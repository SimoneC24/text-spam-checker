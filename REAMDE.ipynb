{
 "cells": [
  {
   "attachments": {},
   "cell_type": "markdown",
   "metadata": {},
   "source": [
    "# Classificazione di Testi Spam e NON-Spam\n",
    "\n",
    "Lo scopo di questo progetto consiste nella costruzione e nella valutazione di un classificatore basato su algoritmi di Machine Learning, per il riconoscimento di messaggi **spam** dai messaggi **non-spam**.\n",
    "\n",
    "Essendo, il suddetto, un progetto a scopo didattico, si faranno svariati richiami teorici nella spiegazione delle diverse attività svolte, inoltre, tutti i riferimenti ad articoli che sono stati utili per la realizzazione di questo progetto sono disponibili nell'ultima sezione di questo notebook, inclusa la fonte dalla quale è stato ottenuto l'unico dataset utilizzato. Il Dataset in questione consta di circa 5500 righe, in formato csv, e in ogni riga troviamo una stringa di testo, la quale rappresenta il messaggio da valutare, e un'etichetta in formato testuale autoesplicativa, con due valori ammessi (spam, ham)."
   ]
  },
  {
   "attachments": {},
   "cell_type": "markdown",
   "metadata": {},
   "source": [
    "Importiamo le librerie:"
   ]
  },
  {
   "cell_type": "code",
   "execution_count": 1,
   "metadata": {},
   "outputs": [],
   "source": [
    "import pandas as pd\n",
    "import seaborn as sns\n",
    "import numpy as np\n",
    "import tensorflow as tf\n",
    "import matplotlib.pyplot as plt\n",
    "from os.path import join, dirname\n",
    "from keras.preprocessing.text import Tokenizer\n",
    "from joblib import dump\n",
    "from keras_preprocessing.sequence import pad_sequences\n",
    "from sklearn.model_selection import train_test_split\n",
    "from sklearn.metrics import accuracy_score, precision_score\n",
    "from sklearn.metrics import confusion_matrix"
   ]
  },
  {
   "attachments": {},
   "cell_type": "markdown",
   "metadata": {},
   "source": [
    "Andiamo a leggere il dataset precaricato sfruttando le funzionalità della libreria *pandas*:"
   ]
  },
  {
   "cell_type": "code",
   "execution_count": 2,
   "metadata": {},
   "outputs": [
    {
     "data": {
      "text/html": [
       "<div>\n",
       "<style scoped>\n",
       "    .dataframe tbody tr th:only-of-type {\n",
       "        vertical-align: middle;\n",
       "    }\n",
       "\n",
       "    .dataframe tbody tr th {\n",
       "        vertical-align: top;\n",
       "    }\n",
       "\n",
       "    .dataframe thead th {\n",
       "        text-align: right;\n",
       "    }\n",
       "</style>\n",
       "<table border=\"1\" class=\"dataframe\">\n",
       "  <thead>\n",
       "    <tr style=\"text-align: right;\">\n",
       "      <th></th>\n",
       "      <th>Category</th>\n",
       "      <th>Message</th>\n",
       "    </tr>\n",
       "  </thead>\n",
       "  <tbody>\n",
       "    <tr>\n",
       "      <th>0</th>\n",
       "      <td>ham</td>\n",
       "      <td>Go until jurong point, crazy.. Available only ...</td>\n",
       "    </tr>\n",
       "    <tr>\n",
       "      <th>1</th>\n",
       "      <td>ham</td>\n",
       "      <td>Ok lar... Joking wif u oni...</td>\n",
       "    </tr>\n",
       "    <tr>\n",
       "      <th>2</th>\n",
       "      <td>spam</td>\n",
       "      <td>Free entry in 2 a wkly comp to win FA Cup fina...</td>\n",
       "    </tr>\n",
       "    <tr>\n",
       "      <th>3</th>\n",
       "      <td>ham</td>\n",
       "      <td>U dun say so early hor... U c already then say...</td>\n",
       "    </tr>\n",
       "    <tr>\n",
       "      <th>4</th>\n",
       "      <td>ham</td>\n",
       "      <td>Nah I don't think he goes to usf, he lives aro...</td>\n",
       "    </tr>\n",
       "    <tr>\n",
       "      <th>...</th>\n",
       "      <td>...</td>\n",
       "      <td>...</td>\n",
       "    </tr>\n",
       "    <tr>\n",
       "      <th>5567</th>\n",
       "      <td>spam</td>\n",
       "      <td>This is the 2nd time we have tried 2 contact u...</td>\n",
       "    </tr>\n",
       "    <tr>\n",
       "      <th>5568</th>\n",
       "      <td>ham</td>\n",
       "      <td>Will ü b going to esplanade fr home?</td>\n",
       "    </tr>\n",
       "    <tr>\n",
       "      <th>5569</th>\n",
       "      <td>ham</td>\n",
       "      <td>Pity, * was in mood for that. So...any other s...</td>\n",
       "    </tr>\n",
       "    <tr>\n",
       "      <th>5570</th>\n",
       "      <td>ham</td>\n",
       "      <td>The guy did some bitching but I acted like i'd...</td>\n",
       "    </tr>\n",
       "    <tr>\n",
       "      <th>5571</th>\n",
       "      <td>ham</td>\n",
       "      <td>Rofl. Its true to its name</td>\n",
       "    </tr>\n",
       "  </tbody>\n",
       "</table>\n",
       "<p>5572 rows × 2 columns</p>\n",
       "</div>"
      ],
      "text/plain": [
       "     Category                                            Message\n",
       "0         ham  Go until jurong point, crazy.. Available only ...\n",
       "1         ham                      Ok lar... Joking wif u oni...\n",
       "2        spam  Free entry in 2 a wkly comp to win FA Cup fina...\n",
       "3         ham  U dun say so early hor... U c already then say...\n",
       "4         ham  Nah I don't think he goes to usf, he lives aro...\n",
       "...       ...                                                ...\n",
       "5567     spam  This is the 2nd time we have tried 2 contact u...\n",
       "5568      ham               Will ü b going to esplanade fr home?\n",
       "5569      ham  Pity, * was in mood for that. So...any other s...\n",
       "5570      ham  The guy did some bitching but I acted like i'd...\n",
       "5571      ham                         Rofl. Its true to its name\n",
       "\n",
       "[5572 rows x 2 columns]"
      ]
     },
     "execution_count": 2,
     "metadata": {},
     "output_type": "execute_result"
    }
   ],
   "source": [
    "df = pd.read_csv(\"spam_messages.csv\")\n",
    "df"
   ]
  },
  {
   "cell_type": "markdown",
   "metadata": {},
   "source": [
    "Come possiamo osservare da questa proiezione del dataset, i messaggi di spam comprendono un ampio spettro di contesti, ma principalmente si tratta di **pubblicità indesiderata**."
   ]
  },
  {
   "cell_type": "code",
   "execution_count": 3,
   "metadata": {},
   "outputs": [
    {
     "data": {
      "text/html": [
       "<div>\n",
       "<style scoped>\n",
       "    .dataframe tbody tr th:only-of-type {\n",
       "        vertical-align: middle;\n",
       "    }\n",
       "\n",
       "    .dataframe tbody tr th {\n",
       "        vertical-align: top;\n",
       "    }\n",
       "\n",
       "    .dataframe thead th {\n",
       "        text-align: right;\n",
       "    }\n",
       "</style>\n",
       "<table border=\"1\" class=\"dataframe\">\n",
       "  <thead>\n",
       "    <tr style=\"text-align: right;\">\n",
       "      <th></th>\n",
       "      <th>Category</th>\n",
       "      <th>Message</th>\n",
       "    </tr>\n",
       "  </thead>\n",
       "  <tbody>\n",
       "    <tr>\n",
       "      <th>2</th>\n",
       "      <td>spam</td>\n",
       "      <td>Free entry in 2 a wkly comp to win FA Cup fina...</td>\n",
       "    </tr>\n",
       "    <tr>\n",
       "      <th>5</th>\n",
       "      <td>spam</td>\n",
       "      <td>FreeMsg Hey there darling it's been 3 week's n...</td>\n",
       "    </tr>\n",
       "    <tr>\n",
       "      <th>8</th>\n",
       "      <td>spam</td>\n",
       "      <td>WINNER!! As a valued network customer you have...</td>\n",
       "    </tr>\n",
       "    <tr>\n",
       "      <th>9</th>\n",
       "      <td>spam</td>\n",
       "      <td>Had your mobile 11 months or more? U R entitle...</td>\n",
       "    </tr>\n",
       "    <tr>\n",
       "      <th>11</th>\n",
       "      <td>spam</td>\n",
       "      <td>SIX chances to win CASH! From 100 to 20,000 po...</td>\n",
       "    </tr>\n",
       "    <tr>\n",
       "      <th>...</th>\n",
       "      <td>...</td>\n",
       "      <td>...</td>\n",
       "    </tr>\n",
       "    <tr>\n",
       "      <th>5537</th>\n",
       "      <td>spam</td>\n",
       "      <td>Want explicit SEX in 30 secs? Ring 02073162414...</td>\n",
       "    </tr>\n",
       "    <tr>\n",
       "      <th>5540</th>\n",
       "      <td>spam</td>\n",
       "      <td>ASKED 3MOBILE IF 0870 CHATLINES INCLU IN FREE ...</td>\n",
       "    </tr>\n",
       "    <tr>\n",
       "      <th>5547</th>\n",
       "      <td>spam</td>\n",
       "      <td>Had your contract mobile 11 Mnths? Latest Moto...</td>\n",
       "    </tr>\n",
       "    <tr>\n",
       "      <th>5566</th>\n",
       "      <td>spam</td>\n",
       "      <td>REMINDER FROM O2: To get 2.50 pounds free call...</td>\n",
       "    </tr>\n",
       "    <tr>\n",
       "      <th>5567</th>\n",
       "      <td>spam</td>\n",
       "      <td>This is the 2nd time we have tried 2 contact u...</td>\n",
       "    </tr>\n",
       "  </tbody>\n",
       "</table>\n",
       "<p>747 rows × 2 columns</p>\n",
       "</div>"
      ],
      "text/plain": [
       "     Category                                            Message\n",
       "2        spam  Free entry in 2 a wkly comp to win FA Cup fina...\n",
       "5        spam  FreeMsg Hey there darling it's been 3 week's n...\n",
       "8        spam  WINNER!! As a valued network customer you have...\n",
       "9        spam  Had your mobile 11 months or more? U R entitle...\n",
       "11       spam  SIX chances to win CASH! From 100 to 20,000 po...\n",
       "...       ...                                                ...\n",
       "5537     spam  Want explicit SEX in 30 secs? Ring 02073162414...\n",
       "5540     spam  ASKED 3MOBILE IF 0870 CHATLINES INCLU IN FREE ...\n",
       "5547     spam  Had your contract mobile 11 Mnths? Latest Moto...\n",
       "5566     spam  REMINDER FROM O2: To get 2.50 pounds free call...\n",
       "5567     spam  This is the 2nd time we have tried 2 contact u...\n",
       "\n",
       "[747 rows x 2 columns]"
      ]
     },
     "execution_count": 3,
     "metadata": {},
     "output_type": "execute_result"
    }
   ],
   "source": [
    "df.where(df[\"Category\"] == \"spam\").dropna()"
   ]
  },
  {
   "cell_type": "code",
   "execution_count": 4,
   "metadata": {},
   "outputs": [
    {
     "data": {
      "text/html": [
       "<div>\n",
       "<style scoped>\n",
       "    .dataframe tbody tr th:only-of-type {\n",
       "        vertical-align: middle;\n",
       "    }\n",
       "\n",
       "    .dataframe tbody tr th {\n",
       "        vertical-align: top;\n",
       "    }\n",
       "\n",
       "    .dataframe thead th {\n",
       "        text-align: right;\n",
       "    }\n",
       "</style>\n",
       "<table border=\"1\" class=\"dataframe\">\n",
       "  <thead>\n",
       "    <tr style=\"text-align: right;\">\n",
       "      <th></th>\n",
       "      <th>count</th>\n",
       "      <th>unique</th>\n",
       "      <th>top</th>\n",
       "      <th>freq</th>\n",
       "    </tr>\n",
       "  </thead>\n",
       "  <tbody>\n",
       "    <tr>\n",
       "      <th>Category</th>\n",
       "      <td>5572</td>\n",
       "      <td>2</td>\n",
       "      <td>ham</td>\n",
       "      <td>4825</td>\n",
       "    </tr>\n",
       "    <tr>\n",
       "      <th>Message</th>\n",
       "      <td>5572</td>\n",
       "      <td>5157</td>\n",
       "      <td>Sorry, I'll call later</td>\n",
       "      <td>30</td>\n",
       "    </tr>\n",
       "  </tbody>\n",
       "</table>\n",
       "</div>"
      ],
      "text/plain": [
       "         count unique                     top  freq\n",
       "Category  5572      2                     ham  4825\n",
       "Message   5572   5157  Sorry, I'll call later    30"
      ]
     },
     "execution_count": 4,
     "metadata": {},
     "output_type": "execute_result"
    }
   ],
   "source": [
    "df.describe().transpose()"
   ]
  },
  {
   "attachments": {},
   "cell_type": "markdown",
   "metadata": {},
   "source": [
    "## Distribuzione delle etichette del Dataset"
   ]
  },
  {
   "cell_type": "code",
   "execution_count": 5,
   "metadata": {},
   "outputs": [
    {
     "data": {
      "text/plain": [
       "<AxesSubplot: xlabel='Category', ylabel='count'>"
      ]
     },
     "execution_count": 5,
     "metadata": {},
     "output_type": "execute_result"
    },
    {
     "data": {
      "image/png": "[encoded data removed]",
      "text/plain": [
       "<Figure size 640x480 with 1 Axes>"
      ]
     },
     "metadata": {},
     "output_type": "display_data"
    }
   ],
   "source": [
    "sns.countplot(x=df[\"Category\"])"
   ]
  },
  {
   "attachments": {},
   "cell_type": "markdown",
   "metadata": {},
   "source": [
    "Come si può osservare nel grafico a barre riportato di sopra, la distribuzione delle etichette è particolarmente sbilanciata, questo potrebbe portare a problematiche nelle fasi successive all'apprendimento.\n",
    "\n",
    "Prima di poter lavorare adeguatamente con i nostri dati, procediamo con la separazione delle due variabili del nostro Dataset:"
   ]
  },
  {
   "cell_type": "code",
   "execution_count": 6,
   "metadata": {},
   "outputs": [],
   "source": [
    "messages = df['Message']\n",
    "labels = df['Category']"
   ]
  },
  {
   "attachments": {},
   "cell_type": "markdown",
   "metadata": {},
   "source": [
    "Definiamo una serie di variabili e costanti che ci saranno utili nelle fasi successive:"
   ]
  },
  {
   "cell_type": "code",
   "execution_count": 7,
   "metadata": {},
   "outputs": [
    {
     "name": "stdout",
     "output_type": "stream",
     "text": [
      "The max count of characters is 910\n"
     ]
    }
   ],
   "source": [
    "MAX_TEXT_LEN = messages.map(lambda message: len(message)).max()\n",
    "print(f\"The max count of characters is {MAX_TEXT_LEN}\")"
   ]
  },
  {
   "cell_type": "code",
   "execution_count": 8,
   "metadata": {},
   "outputs": [],
   "source": [
    "MODEL_PATH = \"training_1/model\"\n",
    "model_dir = dirname(MODEL_PATH)\n",
    "tokenizer_path = join(model_dir, \"tokenizer.joblib\")"
   ]
  },
  {
   "attachments": {},
   "cell_type": "markdown",
   "metadata": {},
   "source": [
    "## Distribuzione dei conteggi delle parole\n",
    "\n",
    "Lo svolgimento di questa fase si rende necessario nel momento in cui, nelle fasi successive all'addestramento, si voglia trovare una correlazione tra errori commessi dal modello e la lunghezza dei messaggi."
   ]
  },
  {
   "attachments": {},
   "cell_type": "markdown",
   "metadata": {},
   "source": [
    "## Addestramento del modello\n",
    "\n",
    "A questo punto la classe 0 sarà associata all'etichetta **spam**, invece la classe 1 all'etichetta **ham**."
   ]
  },
  {
   "cell_type": "code",
   "execution_count": 9,
   "metadata": {},
   "outputs": [],
   "source": [
    "X = messages\n",
    "y = np.where(labels == \"ham\", 1, 0)"
   ]
  },
  {
   "cell_type": "code",
   "execution_count": 10,
   "metadata": {},
   "outputs": [
    {
     "name": "stdout",
     "output_type": "stream",
     "text": [
      "Training sample size: 4457\n",
      "Test sample size: 1115\n"
     ]
    }
   ],
   "source": [
    "X_train, X_test, y_train, y_test = train_test_split(messages, y, test_size=0.2, random_state=1)\n",
    "print(f'Training sample size: {len(X_train)}')\n",
    "print(f'Test sample size: {len(X_test)}')"
   ]
  },
  {
   "attachments": {},
   "cell_type": "markdown",
   "metadata": {},
   "source": [
    "Andiamo a sostituire dai nostri messaggi tutte le cifre che appariranno con un simbolo *#*, in questo modo saranno ignorate in fase di tokenizzazione."
   ]
  },
  {
   "cell_type": "code",
   "execution_count": 11,
   "metadata": {},
   "outputs": [
    {
     "data": {
      "text/plain": [
       "1642    Hi , where are you? We're at  and they're not ...\n",
       "2899          If you r @ home then come down within # min\n",
       "480     When're you guys getting back? G said you were...\n",
       "3485    Tell my  bad character which u Dnt lik in me. ...\n",
       "157                           I'm leaving my house now...\n",
       "                              ...                        \n",
       "905     We're all getting worried over here, derek and...\n",
       "5192    Oh oh... Den muz change plan liao... Go back h...\n",
       "3980    CERI U REBEL! SWEET DREAMZ ME LITTLE BUDDY!! C...\n",
       "235     Text & meet someone sexy today. U can find a d...\n",
       "5157                              K k:) sms chat with me.\n",
       "Name: Message, Length: 4457, dtype: object"
      ]
     },
     "execution_count": 11,
     "metadata": {},
     "output_type": "execute_result"
    }
   ],
   "source": [
    "X_train = X_train.map(lambda message: ''.join([\"#\" if c.isdigit() else c for c in message]))\n",
    "X_train"
   ]
  },
  {
   "attachments": {},
   "cell_type": "markdown",
   "metadata": {},
   "source": [
    "### Tokenizzazione dei messaggi\n",
    "\n",
    "In supporto alla Tokenizzazione, giunge in aiuto la potentissima classe *Tokenizer*, fornita da TensorFlow. Questa classe consente di vettorializzare un testo, trasformando ogni testo in una sequenza di interi, nel nostro caso ogni intero è l'indice di un token in un dizionario.\n",
    "\n",
    "Nella prima fase di utilizzo nel nostro \"tokenizzatore\", andiamo a costruire il nostro dizionario a partire dal dataset di apprendimento."
   ]
  },
  {
   "cell_type": "code",
   "execution_count": 12,
   "metadata": {},
   "outputs": [],
   "source": [
    "tokenizer = Tokenizer(\n",
    "    oov_token = \"#\",\n",
    ")\n",
    "tokenizer.fit_on_texts(X_train)\n",
    "dump(tokenizer, tokenizer_path)\n",
    "VOCABULARY_SIZE = len(tokenizer.word_index)"
   ]
  },
  {
   "attachments": {},
   "cell_type": "markdown",
   "metadata": {},
   "source": [
    "Verifichiamo la dimensione del dizionario appena raccolto e traiamo delle considerazioni a riguardo.\n",
    "\n",
    "La taglia del vocabolario sembrerebbe essere nulla rispetto alla gamma di terminologie usate realmente nell'ambiente della messaggistica."
   ]
  },
  {
   "cell_type": "code",
   "execution_count": 13,
   "metadata": {},
   "outputs": [
    {
     "name": "stdout",
     "output_type": "stream",
     "text": [
      "Il dizionario contiene di 7102 token\n"
     ]
    }
   ],
   "source": [
    "print(f\"Il dizionario contiene di {VOCABULARY_SIZE} token\")"
   ]
  },
  {
   "cell_type": "code",
   "execution_count": 14,
   "metadata": {},
   "outputs": [],
   "source": [
    "X_train_tokenized = pad_sequences(tokenizer.texts_to_sequences(X_train), maxlen=190)\n",
    "X_test_tokenized = pad_sequences(tokenizer.texts_to_sequences(X_test), maxlen=190)"
   ]
  },
  {
   "attachments": {},
   "cell_type": "markdown",
   "metadata": {},
   "source": [
    "I livelli sono impilati in sequenza per costruire il classificatore:\n",
    "\n",
    "- Il primo livello è un livello di *Embedding*. Questo livello prende i messaggi tokenizzati e cerca un vettore di incorporamento per ogni indice di parola. I vettori aggiungono una dimensione all'array di output.\n",
    "\n",
    "- I livelli Dropout impostano in modo casuale le unità di input su 0 con una frequenza di *rate* (passata come unico argomento) a ogni passaggio durante la fase di addestramento, che aiuta a prevenire l'overfitting. Gli input non impostati su 0 vengono aumentati di 1/(1 - rate) in modo tale che la somma di tutti gli input rimanga invariata.\n",
    "\n",
    "- Successivamente, un livello *GlobalAveragePooling1D* restituisce un vettore di output a lunghezza fissa per ogni esempio calcolando la media sulla dimensione della sequenza. Ciò consente al modello di gestire input di lunghezza variabile, nel modo più semplice possibile.\n",
    "\n",
    "- L'ultimo strato è densamente connesso con un singolo nodo di output.\n",
    "\n",
    "Poiché si tratta di un problema di classificazione binaria e il modello emette una probabilità (uno strato di unità singola con un'attivazione sigmoidea).\n",
    "\n",
    "Un grande aiuto per la costruzione del modello in questione è stato fornito dalle innumerevoli guide sull'utilizzo di TensorFlow, andando ad apportare piccole modifiche al codice fornito, basandosi su osservazioni fatte durante lo svolgimento delle diverse attività: [Basic text classification | TensorFlow Core](https://www.tensorflow.org/tutorials/keras/text_classification?hl=it)"
   ]
  },
  {
   "cell_type": "code",
   "execution_count": 15,
   "metadata": {},
   "outputs": [
    {
     "name": "stdout",
     "output_type": "stream",
     "text": [
      "Model: \"sequential\"\n",
      "_________________________________________________________________\n",
      " Layer (type)                Output Shape              Param #   \n",
      "=================================================================\n",
      " embedding (Embedding)       (None, None, 128)         909056    \n",
      "                                                                 \n",
      " dropout (Dropout)           (None, None, 128)         0         \n",
      "                                                                 \n",
      " dropout_1 (Dropout)         (None, None, 128)         0         \n",
      "                                                                 \n",
      " global_average_pooling1d (G  (None, 128)              0         \n",
      " lobalAveragePooling1D)                                          \n",
      "                                                                 \n",
      " dropout_2 (Dropout)         (None, 128)               0         \n",
      "                                                                 \n",
      " dropout_3 (Dropout)         (None, 128)               0         \n",
      "                                                                 \n",
      " dense (Dense)               (None, 1)                 129       \n",
      "                                                                 \n",
      "=================================================================\n",
      "Total params: 909,185\n",
      "Trainable params: 909,185\n",
      "Non-trainable params: 0\n",
      "_________________________________________________________________\n"
     ]
    }
   ],
   "source": [
    "metrics = [\n",
    "  tf.keras.metrics.TruePositives(name='th'),\n",
    "  tf.keras.metrics.FalsePositives(name='fh'),\n",
    "  tf.keras.metrics.TrueNegatives(name='ts'),\n",
    "  tf.keras.metrics.FalseNegatives(name='fs'), \n",
    "  tf.keras.metrics.BinaryAccuracy(name='accuracy'),\n",
    "  tf.keras.metrics.Precision(name='precision'),\n",
    "  tf.keras.metrics.Recall(name='recall'),\n",
    "]\n",
    "\n",
    "model = tf.keras.Sequential([\n",
    "  tf.keras.layers.Embedding(VOCABULARY_SIZE, 128),\n",
    "  tf.keras.layers.Dropout(0.2),\n",
    "  tf.keras.layers.Dropout(0.4),\n",
    "  tf.keras.layers.GlobalAveragePooling1D(),\n",
    "  tf.keras.layers.Dropout(0.4),\n",
    "  tf.keras.layers.Dropout(0.2),\n",
    "  tf.keras.layers.Dense(1, activation=\"sigmoid\")\n",
    "])\n",
    "model.compile(metrics=metrics, loss='binary_crossentropy', optimizer='adam')\n",
    "model.summary()"
   ]
  },
  {
   "attachments": {},
   "cell_type": "markdown",
   "metadata": {},
   "source": [
    "Seguendo il suggerimento ricevuto durante la prima presentazione di questo progetto, andiamo a porre un maggiore peso alla classe che risulta essere in minoranza. La modalità di impostazione di questi pesi è stata derivata dalla documentazione di TensorFlow.\n",
    "\n",
    "La scelta dei pesi è pienamente imputabile a valutazioni empiriche effettuate reiterando l'attività di addestramento, apportando di volta in volta modifiche ai diversi pesi, fino al raggiungimento di un risultato *soddisfacente*.\n",
    "\n",
    "Andiamo a chiarire il significato del parametro **validation_split**, questo corrisponde alla frazione dei dati di addestramento da utilizzare come dati di convalida. Il modello separerà questa frazione dei dati di addestramento, non si addestrerà su di essa e valuterà la perdita e qualsiasi metrica del modello su questi dati alla fine di ogni epoca."
   ]
  },
  {
   "cell_type": "code",
   "execution_count": 16,
   "metadata": {},
   "outputs": [
    {
     "name": "stdout",
     "output_type": "stream",
     "text": [
      "Epoch 1/30\n",
      "179/179 [==============================] - 3s 10ms/step - loss: 0.2087 - th: 3040.0000 - fh: 475.0000 - ts: 5.0000 - fs: 45.0000 - accuracy: 0.8541 - precision: 0.8649 - recall: 0.9854 - val_loss: 0.5803 - val_th: 772.0000 - val_fh: 120.0000 - val_ts: 0.0000e+00 - val_fs: 0.0000e+00 - val_accuracy: 0.8655 - val_precision: 0.8655 - val_recall: 1.0000\n",
      "Epoch 2/30\n",
      "179/179 [==============================] - 1s 8ms/step - loss: 0.2024 - th: 3085.0000 - fh: 480.0000 - ts: 0.0000e+00 - fs: 0.0000e+00 - accuracy: 0.8654 - precision: 0.8654 - recall: 1.0000 - val_loss: 0.5709 - val_th: 772.0000 - val_fh: 119.0000 - val_ts: 1.0000 - val_fs: 0.0000e+00 - val_accuracy: 0.8666 - val_precision: 0.8664 - val_recall: 1.0000\n",
      "Epoch 3/30\n",
      "179/179 [==============================] - 1s 8ms/step - loss: 0.1898 - th: 3085.0000 - fh: 416.0000 - ts: 64.0000 - fs: 0.0000e+00 - accuracy: 0.8833 - precision: 0.8812 - recall: 1.0000 - val_loss: 0.5626 - val_th: 771.0000 - val_fh: 31.0000 - val_ts: 89.0000 - val_fs: 1.0000 - val_accuracy: 0.9641 - val_precision: 0.9613 - val_recall: 0.9987\n",
      "Epoch 4/30\n",
      "179/179 [==============================] - 2s 9ms/step - loss: 0.1700 - th: 3085.0000 - fh: 194.0000 - ts: 286.0000 - fs: 0.0000e+00 - accuracy: 0.9456 - precision: 0.9408 - recall: 1.0000 - val_loss: 0.4545 - val_th: 771.0000 - val_fh: 33.0000 - val_ts: 87.0000 - val_fs: 1.0000 - val_accuracy: 0.9619 - val_precision: 0.9590 - val_recall: 0.9987\n",
      "Epoch 5/30\n",
      "179/179 [==============================] - 2s 9ms/step - loss: 0.1460 - th: 3078.0000 - fh: 114.0000 - ts: 366.0000 - fs: 7.0000 - accuracy: 0.9661 - precision: 0.9643 - recall: 0.9977 - val_loss: 0.3816 - val_th: 771.0000 - val_fh: 20.0000 - val_ts: 100.0000 - val_fs: 1.0000 - val_accuracy: 0.9765 - val_precision: 0.9747 - val_recall: 0.9987\n",
      "Epoch 6/30\n",
      "179/179 [==============================] - 2s 10ms/step - loss: 0.1206 - th: 3075.0000 - fh: 86.0000 - ts: 394.0000 - fs: 10.0000 - accuracy: 0.9731 - precision: 0.9728 - recall: 0.9968 - val_loss: 0.2701 - val_th: 771.0000 - val_fh: 30.0000 - val_ts: 90.0000 - val_fs: 1.0000 - val_accuracy: 0.9652 - val_precision: 0.9625 - val_recall: 0.9987\n",
      "Epoch 7/30\n",
      "179/179 [==============================] - 2s 9ms/step - loss: 0.0999 - th: 3069.0000 - fh: 68.0000 - ts: 412.0000 - fs: 16.0000 - accuracy: 0.9764 - precision: 0.9783 - recall: 0.9948 - val_loss: 0.2414 - val_th: 770.0000 - val_fh: 18.0000 - val_ts: 102.0000 - val_fs: 2.0000 - val_accuracy: 0.9776 - val_precision: 0.9772 - val_recall: 0.9974\n",
      "Epoch 8/30\n",
      "179/179 [==============================] - 1s 8ms/step - loss: 0.0833 - th: 3074.0000 - fh: 59.0000 - ts: 421.0000 - fs: 11.0000 - accuracy: 0.9804 - precision: 0.9812 - recall: 0.9964 - val_loss: 0.2245 - val_th: 770.0000 - val_fh: 13.0000 - val_ts: 107.0000 - val_fs: 2.0000 - val_accuracy: 0.9832 - val_precision: 0.9834 - val_recall: 0.9974\n",
      "Epoch 9/30\n",
      "179/179 [==============================] - 1s 8ms/step - loss: 0.0707 - th: 3075.0000 - fh: 52.0000 - ts: 428.0000 - fs: 10.0000 - accuracy: 0.9826 - precision: 0.9834 - recall: 0.9968 - val_loss: 0.1751 - val_th: 770.0000 - val_fh: 14.0000 - val_ts: 106.0000 - val_fs: 2.0000 - val_accuracy: 0.9821 - val_precision: 0.9821 - val_recall: 0.9974\n",
      "Epoch 10/30\n",
      "179/179 [==============================] - 1s 8ms/step - loss: 0.0615 - th: 3070.0000 - fh: 48.0000 - ts: 432.0000 - fs: 15.0000 - accuracy: 0.9823 - precision: 0.9846 - recall: 0.9951 - val_loss: 0.1564 - val_th: 770.0000 - val_fh: 13.0000 - val_ts: 107.0000 - val_fs: 2.0000 - val_accuracy: 0.9832 - val_precision: 0.9834 - val_recall: 0.9974\n",
      "Epoch 11/30\n",
      "179/179 [==============================] - 2s 8ms/step - loss: 0.0525 - th: 3074.0000 - fh: 43.0000 - ts: 437.0000 - fs: 11.0000 - accuracy: 0.9849 - precision: 0.9862 - recall: 0.9964 - val_loss: 0.1174 - val_th: 770.0000 - val_fh: 15.0000 - val_ts: 105.0000 - val_fs: 2.0000 - val_accuracy: 0.9809 - val_precision: 0.9809 - val_recall: 0.9974\n",
      "Epoch 12/30\n",
      "179/179 [==============================] - 2s 10ms/step - loss: 0.0477 - th: 3074.0000 - fh: 41.0000 - ts: 439.0000 - fs: 11.0000 - accuracy: 0.9854 - precision: 0.9868 - recall: 0.9964 - val_loss: 0.1244 - val_th: 770.0000 - val_fh: 13.0000 - val_ts: 107.0000 - val_fs: 2.0000 - val_accuracy: 0.9832 - val_precision: 0.9834 - val_recall: 0.9974\n",
      "Epoch 13/30\n",
      "179/179 [==============================] - 2s 9ms/step - loss: 0.0426 - th: 3070.0000 - fh: 34.0000 - ts: 446.0000 - fs: 15.0000 - accuracy: 0.9863 - precision: 0.9890 - recall: 0.9951 - val_loss: 0.1118 - val_th: 770.0000 - val_fh: 13.0000 - val_ts: 107.0000 - val_fs: 2.0000 - val_accuracy: 0.9832 - val_precision: 0.9834 - val_recall: 0.9974\n",
      "Epoch 14/30\n",
      "179/179 [==============================] - 2s 9ms/step - loss: 0.0401 - th: 3068.0000 - fh: 36.0000 - ts: 444.0000 - fs: 17.0000 - accuracy: 0.9851 - precision: 0.9884 - recall: 0.9945 - val_loss: 0.1110 - val_th: 770.0000 - val_fh: 11.0000 - val_ts: 109.0000 - val_fs: 2.0000 - val_accuracy: 0.9854 - val_precision: 0.9859 - val_recall: 0.9974\n",
      "Epoch 15/30\n",
      "179/179 [==============================] - 2s 9ms/step - loss: 0.0370 - th: 3070.0000 - fh: 33.0000 - ts: 447.0000 - fs: 15.0000 - accuracy: 0.9865 - precision: 0.9894 - recall: 0.9951 - val_loss: 0.1282 - val_th: 768.0000 - val_fh: 10.0000 - val_ts: 110.0000 - val_fs: 4.0000 - val_accuracy: 0.9843 - val_precision: 0.9871 - val_recall: 0.9948\n",
      "Epoch 16/30\n",
      "179/179 [==============================] - 2s 8ms/step - loss: 0.0336 - th: 3071.0000 - fh: 29.0000 - ts: 451.0000 - fs: 14.0000 - accuracy: 0.9879 - precision: 0.9906 - recall: 0.9955 - val_loss: 0.0926 - val_th: 770.0000 - val_fh: 11.0000 - val_ts: 109.0000 - val_fs: 2.0000 - val_accuracy: 0.9854 - val_precision: 0.9859 - val_recall: 0.9974\n",
      "Epoch 17/30\n",
      "179/179 [==============================] - 1s 8ms/step - loss: 0.0314 - th: 3074.0000 - fh: 26.0000 - ts: 454.0000 - fs: 11.0000 - accuracy: 0.9896 - precision: 0.9916 - recall: 0.9964 - val_loss: 0.0846 - val_th: 770.0000 - val_fh: 11.0000 - val_ts: 109.0000 - val_fs: 2.0000 - val_accuracy: 0.9854 - val_precision: 0.9859 - val_recall: 0.9974\n",
      "Epoch 18/30\n",
      "179/179 [==============================] - 2s 8ms/step - loss: 0.0300 - th: 3075.0000 - fh: 24.0000 - ts: 456.0000 - fs: 10.0000 - accuracy: 0.9905 - precision: 0.9923 - recall: 0.9968 - val_loss: 0.0798 - val_th: 770.0000 - val_fh: 11.0000 - val_ts: 109.0000 - val_fs: 2.0000 - val_accuracy: 0.9854 - val_precision: 0.9859 - val_recall: 0.9974\n",
      "Epoch 19/30\n",
      "179/179 [==============================] - 1s 8ms/step - loss: 0.0276 - th: 3070.0000 - fh: 21.0000 - ts: 459.0000 - fs: 15.0000 - accuracy: 0.9899 - precision: 0.9932 - recall: 0.9951 - val_loss: 0.0962 - val_th: 770.0000 - val_fh: 10.0000 - val_ts: 110.0000 - val_fs: 2.0000 - val_accuracy: 0.9865 - val_precision: 0.9872 - val_recall: 0.9974\n",
      "Epoch 20/30\n",
      "179/179 [==============================] - 2s 9ms/step - loss: 0.0248 - th: 3070.0000 - fh: 18.0000 - ts: 462.0000 - fs: 15.0000 - accuracy: 0.9907 - precision: 0.9942 - recall: 0.9951 - val_loss: 0.0759 - val_th: 770.0000 - val_fh: 11.0000 - val_ts: 109.0000 - val_fs: 2.0000 - val_accuracy: 0.9854 - val_precision: 0.9859 - val_recall: 0.9974\n",
      "Epoch 21/30\n",
      "179/179 [==============================] - 1s 8ms/step - loss: 0.0239 - th: 3071.0000 - fh: 21.0000 - ts: 459.0000 - fs: 14.0000 - accuracy: 0.9902 - precision: 0.9932 - recall: 0.9955 - val_loss: 0.0743 - val_th: 770.0000 - val_fh: 11.0000 - val_ts: 109.0000 - val_fs: 2.0000 - val_accuracy: 0.9854 - val_precision: 0.9859 - val_recall: 0.9974\n",
      "Epoch 22/30\n",
      "179/179 [==============================] - 1s 8ms/step - loss: 0.0233 - th: 3072.0000 - fh: 21.0000 - ts: 459.0000 - fs: 13.0000 - accuracy: 0.9905 - precision: 0.9932 - recall: 0.9958 - val_loss: 0.0707 - val_th: 770.0000 - val_fh: 11.0000 - val_ts: 109.0000 - val_fs: 2.0000 - val_accuracy: 0.9854 - val_precision: 0.9859 - val_recall: 0.9974\n",
      "Epoch 23/30\n",
      "179/179 [==============================] - 1s 8ms/step - loss: 0.0220 - th: 3069.0000 - fh: 21.0000 - ts: 459.0000 - fs: 16.0000 - accuracy: 0.9896 - precision: 0.9932 - recall: 0.9948 - val_loss: 0.0851 - val_th: 769.0000 - val_fh: 10.0000 - val_ts: 110.0000 - val_fs: 3.0000 - val_accuracy: 0.9854 - val_precision: 0.9872 - val_recall: 0.9961\n",
      "Epoch 24/30\n",
      "179/179 [==============================] - 1s 8ms/step - loss: 0.0213 - th: 3073.0000 - fh: 18.0000 - ts: 462.0000 - fs: 12.0000 - accuracy: 0.9916 - precision: 0.9942 - recall: 0.9961 - val_loss: 0.0713 - val_th: 770.0000 - val_fh: 10.0000 - val_ts: 110.0000 - val_fs: 2.0000 - val_accuracy: 0.9865 - val_precision: 0.9872 - val_recall: 0.9974\n",
      "Epoch 25/30\n",
      "179/179 [==============================] - 1s 8ms/step - loss: 0.0195 - th: 3076.0000 - fh: 16.0000 - ts: 464.0000 - fs: 9.0000 - accuracy: 0.9930 - precision: 0.9948 - recall: 0.9971 - val_loss: 0.0900 - val_th: 766.0000 - val_fh: 9.0000 - val_ts: 111.0000 - val_fs: 6.0000 - val_accuracy: 0.9832 - val_precision: 0.9884 - val_recall: 0.9922\n",
      "Epoch 26/30\n",
      "179/179 [==============================] - 1s 8ms/step - loss: 0.0189 - th: 3075.0000 - fh: 16.0000 - ts: 464.0000 - fs: 10.0000 - accuracy: 0.9927 - precision: 0.9948 - recall: 0.9968 - val_loss: 0.0661 - val_th: 770.0000 - val_fh: 10.0000 - val_ts: 110.0000 - val_fs: 2.0000 - val_accuracy: 0.9865 - val_precision: 0.9872 - val_recall: 0.9974\n",
      "Epoch 27/30\n",
      "179/179 [==============================] - 1s 8ms/step - loss: 0.0169 - th: 3072.0000 - fh: 13.0000 - ts: 467.0000 - fs: 13.0000 - accuracy: 0.9927 - precision: 0.9958 - recall: 0.9958 - val_loss: 0.0596 - val_th: 770.0000 - val_fh: 12.0000 - val_ts: 108.0000 - val_fs: 2.0000 - val_accuracy: 0.9843 - val_precision: 0.9847 - val_recall: 0.9974\n",
      "Epoch 28/30\n",
      "179/179 [==============================] - 1s 8ms/step - loss: 0.0167 - th: 3076.0000 - fh: 18.0000 - ts: 462.0000 - fs: 9.0000 - accuracy: 0.9924 - precision: 0.9942 - recall: 0.9971 - val_loss: 0.0715 - val_th: 769.0000 - val_fh: 10.0000 - val_ts: 110.0000 - val_fs: 3.0000 - val_accuracy: 0.9854 - val_precision: 0.9872 - val_recall: 0.9961\n",
      "Epoch 29/30\n",
      "179/179 [==============================] - 1s 8ms/step - loss: 0.0161 - th: 3073.0000 - fh: 13.0000 - ts: 467.0000 - fs: 12.0000 - accuracy: 0.9930 - precision: 0.9958 - recall: 0.9961 - val_loss: 0.0684 - val_th: 769.0000 - val_fh: 10.0000 - val_ts: 110.0000 - val_fs: 3.0000 - val_accuracy: 0.9854 - val_precision: 0.9872 - val_recall: 0.9961\n",
      "Epoch 30/30\n",
      "179/179 [==============================] - 1s 8ms/step - loss: 0.0147 - th: 3076.0000 - fh: 13.0000 - ts: 467.0000 - fs: 9.0000 - accuracy: 0.9938 - precision: 0.9958 - recall: 0.9971 - val_loss: 0.0655 - val_th: 769.0000 - val_fh: 10.0000 - val_ts: 110.0000 - val_fs: 3.0000 - val_accuracy: 0.9854 - val_precision: 0.9872 - val_recall: 0.9961\n"
     ]
    }
   ],
   "source": [
    "history = model.fit(X_train_tokenized, y_train, batch_size=20, epochs=30, validation_split=0.2, verbose=1, class_weight={ 0: 1, 1: 0.2 })"
   ]
  },
  {
   "attachments": {},
   "cell_type": "markdown",
   "metadata": {},
   "source": [
    "Salviamo il nostro modello addestrato nel file-system per poterlo utilizzare successivamente in un ambiente reale."
   ]
  },
  {
   "cell_type": "code",
   "execution_count": 17,
   "metadata": {},
   "outputs": [
    {
     "name": "stdout",
     "output_type": "stream",
     "text": [
      "INFO:tensorflow:Assets written to: training_1/model\\assets\n"
     ]
    }
   ],
   "source": [
    "model.save(MODEL_PATH)"
   ]
  },
  {
   "cell_type": "code",
   "execution_count": 18,
   "metadata": {},
   "outputs": [
    {
     "data": {
      "text/plain": [
       "<AxesSubplot: >"
      ]
     },
     "execution_count": 18,
     "metadata": {},
     "output_type": "execute_result"
    },
    {
     "data": {
      "image/png": "[encoded data removed]",
      "text/plain": [
       "<Figure size 640x480 with 1 Axes>"
      ]
     },
     "metadata": {},
     "output_type": "display_data"
    }
   ],
   "source": [
    "sns.lineplot(history.history[\"loss\"], label=\"Loss\")\n",
    "sns.lineplot(history.history[\"val_loss\"], label=\"Validation Loss\")"
   ]
  },
  {
   "attachments": {},
   "cell_type": "markdown",
   "metadata": {},
   "source": [
    "## Comprensione dei risultati\n",
    "\n",
    "Il nostro modello è stato addestrato, con dei risulati apparentemente soddisfacenti. Ciò però non significa necessariamente che il suo comportamento sia quello da noi desiderato."
   ]
  },
  {
   "cell_type": "code",
   "execution_count": 19,
   "metadata": {},
   "outputs": [
    {
     "name": "stdout",
     "output_type": "stream",
     "text": [
      "35/35 [==============================] - 0s 1ms/step\n"
     ]
    }
   ],
   "source": [
    "y_predict_ann = model.predict(X_test_tokenized).flatten()"
   ]
  },
  {
   "cell_type": "code",
   "execution_count": 20,
   "metadata": {},
   "outputs": [],
   "source": [
    "y_predict_labels = np.where(y_predict_ann > 0.5, 1, 0)"
   ]
  },
  {
   "attachments": {},
   "cell_type": "markdown",
   "metadata": {},
   "source": [
    "### Accuratezza\n",
    "\n",
    "L'accuratezza è una metrica per valutare i modelli di classificazione. A grandi linee, l'accuratezza è la parte della previsione che il nostro modello ha fatto in modo corretto. Formalmente, l'accuratezza è definita come segue:\n",
    "\n",
    "$\n",
    "Accuracy = {TP+TN \\over TP+FP+TN+FN} = {\\text{Numero di previsioni corrette}\\over\\text{Numero di predizioni totali}}\n",
    "$"
   ]
  },
  {
   "cell_type": "code",
   "execution_count": 21,
   "metadata": {},
   "outputs": [
    {
     "data": {
      "text/plain": [
       "0.9874439461883409"
      ]
     },
     "execution_count": 21,
     "metadata": {},
     "output_type": "execute_result"
    }
   ],
   "source": [
    "ann_accuracy_score = accuracy_score(y_test, y_predict_labels)\n",
    "ann_accuracy_score"
   ]
  },
  {
   "attachments": {},
   "cell_type": "markdown",
   "metadata": {},
   "source": [
    "### Precisione\n",
    "\n",
    "La precisione misura quale proporzione di identificatori positivi è effettivamente corretta, ed è definita come segue:\n",
    "\n",
    "$\n",
    "Precision = {TP \\over{TP + FP}}\n",
    "$"
   ]
  },
  {
   "cell_type": "code",
   "execution_count": 22,
   "metadata": {},
   "outputs": [
    {
     "data": {
      "text/plain": [
       "0.9937888198757764"
      ]
     },
     "execution_count": 22,
     "metadata": {},
     "output_type": "execute_result"
    }
   ],
   "source": [
    "ann_precision_score = precision_score(y_test, y_predict_labels)\n",
    "ann_precision_score"
   ]
  },
  {
   "attachments": {},
   "cell_type": "markdown",
   "metadata": {},
   "source": [
    "### Matrice di confusione\n",
    "\n",
    "Si rende molto utile in questa fase di comprensione dei dati, l'utilizzo di una **matrice di confusione** per una rappresentazione dei *risultati ottenuti dal modello*. Calcoliamo quindi per ogni etichetta quante sono le entry per le quali le etichette sono state correttamente predette dal modello nel *dataset di test* e quali invece sono state sbagliate."
   ]
  },
  {
   "cell_type": "code",
   "execution_count": 23,
   "metadata": {},
   "outputs": [],
   "source": [
    "ann_cf_matrix = confusion_matrix(y_test, y_predict_labels)\n",
    "ann_cf_matrix[0] = (ann_cf_matrix[0] / sum(ann_cf_matrix[0]))*100\n",
    "ann_cf_matrix[1] = (ann_cf_matrix[1] / sum(ann_cf_matrix[1]))*100"
   ]
  },
  {
   "cell_type": "code",
   "execution_count": 24,
   "metadata": {},
   "outputs": [
    {
     "data": {
      "text/plain": [
       "<AxesSubplot: >"
      ]
     },
     "execution_count": 24,
     "metadata": {},
     "output_type": "execute_result"
    },
    {
     "data": {
      "image/png": "[encoded data removed]",
      "text/plain": [
       "<Figure size 640x480 with 2 Axes>"
      ]
     },
     "metadata": {},
     "output_type": "display_data"
    }
   ],
   "source": [
    "sns.heatmap(ann_cf_matrix, fmt=\"\", cmap=\"Blues\", annot=[[\"True SPAM\", \"False HAM\"], [\"False SPAM\", \"TRUE HAM\"]])"
   ]
  },
  {
   "attachments": {},
   "cell_type": "markdown",
   "metadata": {},
   "source": [
    "A differenza di quel che si poteva immaginare, la maggior frequenza degli errori è in corrispondeza delle frasi con un più basso conteggio di parole, fattore incentivato, probabilmente dalla loro elevata distribuzione."
   ]
  },
  {
   "cell_type": "code",
   "execution_count": 25,
   "metadata": {},
   "outputs": [
    {
     "data": {
      "text/plain": [
       "<matplotlib.lines.Line2D at 0x1b392f20d30>"
      ]
     },
     "execution_count": 25,
     "metadata": {},
     "output_type": "execute_result"
    },
    {
     "data": {
      "image/png": "[encoded data removed]",
      "text/plain": [
       "<Figure size 600x600 with 3 Axes>"
      ]
     },
     "metadata": {},
     "output_type": "display_data"
    }
   ],
   "source": [
    "X_test_lenghts = [len([t for t in X if t != 0]) for X in X_test_tokenized]\n",
    "plot = sns.jointplot(x=X_test_lenghts, y=y_predict_ann, hue=np.where(y_test == 1, \"ham\", \"spam\"))\\\n",
    ".plot_joint(sns.kdeplot, color=\"r\", zorder=0, levels=1)\n",
    "plot.ax_joint.axhline(y=0.5)"
   ]
  },
  {
   "attachments": {},
   "cell_type": "markdown",
   "metadata": {},
   "source": [
    "## Valutazione delle Alternative\n",
    "\n",
    "L'utilizzo di una rete neurale è davvero giustificato per problemi come questo? Una giusta osservazione che sorge, è appunto la necessità di utilizzare una tecnologia tanto complessa e costosa come la rete neurale per la risoluzione di problemi di classificazione binaria.\n",
    "\n",
    "Per ottenere una rapida risposta a questo quesito, nella presente sezione metteremo a confronto risoluzione del problema sfruttando un ulteriore algoritmo di classificazione: **Naive Bayes**. La libreria Scikit-Learn ci fornisce diverse implementazioni per l'algoritmo Naive Bayes: [Naive Bayes - scikit-learn](https://scikit-learn.org/stable/modules/naive_bayes.html). Tra le tante, la scelta è comunque ricaduta sul *Multinomial Naive Bayes*.\n",
    "\n",
    "Assumendo dunque corrette, le modifiche applicate al datase, iniziamo da quì una nuova fase di apprendimento, sfruttando l'algoritmo *MultinomialNB* importato, stavolta, come citato in precedenza, dalla libreria *Scikit-Learn*."
   ]
  },
  {
   "cell_type": "code",
   "execution_count": 26,
   "metadata": {},
   "outputs": [],
   "source": [
    "from sklearn.naive_bayes import MultinomialNB"
   ]
  },
  {
   "cell_type": "code",
   "execution_count": 27,
   "metadata": {},
   "outputs": [],
   "source": [
    "mnb = MultinomialNB()"
   ]
  },
  {
   "cell_type": "code",
   "execution_count": 28,
   "metadata": {},
   "outputs": [],
   "source": [
    "mnb.fit(X_train_tokenized, y_train)\n",
    "y_predict_nb = mnb.predict(X_test_tokenized)"
   ]
  },
  {
   "attachments": {},
   "cell_type": "markdown",
   "metadata": {},
   "source": [
    "### Valutazione dei risultati\n",
    "\n",
    "#### Accuratezza"
   ]
  },
  {
   "cell_type": "code",
   "execution_count": 29,
   "metadata": {},
   "outputs": [
    {
     "data": {
      "text/plain": [
       "0.7695067264573991"
      ]
     },
     "execution_count": 29,
     "metadata": {},
     "output_type": "execute_result"
    }
   ],
   "source": [
    "nb_accuracy_score = accuracy_score(y_test, y_predict_nb)\n",
    "nb_accuracy_score"
   ]
  },
  {
   "attachments": {},
   "cell_type": "markdown",
   "metadata": {},
   "source": [
    "#### Precisione"
   ]
  },
  {
   "cell_type": "code",
   "execution_count": 30,
   "metadata": {},
   "outputs": [
    {
     "data": {
      "text/plain": [
       "0.9721115537848606"
      ]
     },
     "execution_count": 30,
     "metadata": {},
     "output_type": "execute_result"
    }
   ],
   "source": [
    "nb_precision_score = precision_score(y_test, y_predict_nb)\n",
    "nb_precision_score"
   ]
  },
  {
   "cell_type": "code",
   "execution_count": 34,
   "metadata": {},
   "outputs": [],
   "source": [
    "nb_cf_matrix = confusion_matrix(y_test, y_predict_nb)\n",
    "nb_cf_matrix[0] = (nb_cf_matrix[0] / sum(nb_cf_matrix[0]))*100\n",
    "nb_cf_matrix[1] = (nb_cf_matrix[1] / sum(nb_cf_matrix[1]))*100"
   ]
  },
  {
   "cell_type": "code",
   "execution_count": 35,
   "metadata": {},
   "outputs": [
    {
     "data": {
      "text/plain": [
       "<AxesSubplot: >"
      ]
     },
     "execution_count": 35,
     "metadata": {},
     "output_type": "execute_result"
    },
    {
     "data": {
      "image/png": "[encoded data removed]",
      "text/plain": [
       "<Figure size 640x480 with 2 Axes>"
      ]
     },
     "metadata": {},
     "output_type": "display_data"
    }
   ],
   "source": [
    "sns.heatmap(nb_cf_matrix, fmt=\"\", cmap=\"Blues\", annot=[[\"True SPAM\", \"False HAM\"], [\"False SPAM\", \"TRUE HAM\"]])"
   ]
  },
  {
   "attachments": {},
   "cell_type": "markdown",
   "metadata": {},
   "source": [
    "Le matrici di confusione ottenute, ci riportano in entrambi i casi risultati abbastanza soddisfacenti, anche se leggermente migliori nel caso dell'uso della rete neurale. Dunque, l'uso di un algoritmo di questo tipo risulta essere giustificato? Apparentemente **NO!** Infatti, il modello basato su Naive Bayes, ha riportato dei risultati comunque soddisfacenti, messi a confronto con quelli ottenuti dalla rete neurale. Chiaramente escludendo riscontri che potrebbero essere visibili solo in fase di distribuzione del modello in un ambiente reale."
   ]
  },
  {
   "attachments": {},
   "cell_type": "markdown",
   "metadata": {},
   "source": [
    "### Confronto tra i modelli\n",
    "\n",
    "Possiamo concludere che il vantaggio ottenuto dall'uso della rete neurale è impercettibile."
   ]
  },
  {
   "cell_type": "code",
   "execution_count": 36,
   "metadata": {},
   "outputs": [
    {
     "data": {
      "text/plain": [
       "<AxesSubplot: >"
      ]
     },
     "execution_count": 36,
     "metadata": {},
     "output_type": "execute_result"
    },
    {
     "data": {
      "image/png": "[encoded data removed]",
      "text/plain": [
       "<Figure size 640x480 with 1 Axes>"
      ]
     },
     "metadata": {},
     "output_type": "display_data"
    }
   ],
   "source": [
    "sns.barplot(\n",
    "    x=[\"Precision\", \"Accuracy\", \"Precision\", \"Accuracy\"],\n",
    "    y=[nb_precision_score, nb_accuracy_score, ann_precision_score, ann_accuracy_score],\n",
    "    hue=[\"Naive Bayes\", \"Naive Bayes\", \"ANN\", \"ANN\"],\n",
    ")"
   ]
  },
  {
   "attachments": {},
   "cell_type": "markdown",
   "metadata": {},
   "source": [
    "## Conclusioni\n",
    "\n",
    "Seppure il modello basato su una rete neurale abbia totalizzato un'accuratezza molto alta, andando a visualizzare in dettaglio i risultati, si nota che il modello è più bravo a riconoscere casi di Non-Spam piuttosto che casi di Spam. Questo fattore potrebbe assolutamente essere riconducibile allo sbilanciamento delle etichette. Nonostante l'elevata accuratezza del modello nella classificazione di dati provenienti dal Dataset utilizzato per l'apprendimento, il suo comportamento presenta molti dubbi nel caso in cui lo si utilizzi per predirre l'etichetta di nuove stringe (magari scritte a mano). Questo comportamento potrebbe essere una delle conseguenze della scarsa numerosità dei dati.\n",
    "\n",
    "### Possibili utilizzi del modello e osservazioni\n",
    "\n",
    "Sulla base dei nostri risultati e della sperimentazione sul modello svolta mediante uno script Python realizzato ad-hoc, un modello di questo tipo può essere utilizzato in combinazione con uno svariato numero di ambienti. Un tipico esempio è il filtraggio dei commenti per le piattaforme blogging, o per un form di raccolta di questionari. Purtroppo però, le vulnerabilità del modello in questione sono diverse, infatti, un qualsiasi usufruitore correrebbe in ogni caso il rischio di vedere i suoi innocenti messaggi classificati come SPAM... D'altronde questo è un fenomeno assai frequente anche nell'utilizzo di noti servizi di posta elettronica come *Gmail* o *Outlook*.\n",
    "\n",
    "Nasce quindi spontanea una domanda, è più grave un **falso spam** o un **falso ham**? La domanda, come al solito potrebbe essere risolta con un più che generico \"dipende\", che aprirebbe la nostra mente verso una serie di specializzazioni applicabili al dominio di un problema di questo tipo: dipende dal messaggio? dipende dal mittente? dipende dai messaggi precedentemente scambiati con il mittente?\n",
    "\n",
    "## Fonti\n",
    "\n",
    "Di seguito sono riportati articoli e fonti da cui sono state raccolte tutte le info necessarie per la realizzazione di questo progetto. Un aiuto molto importante a questo progetto è stato fornito dalle innumerevoli e utilissime guide fornite da TensorFlow.\n",
    "\n",
    "[Basic text classification | TensorFlow Core](https://www.tensorflow.org/tutorials/keras/text_classification?hl=it)\n",
    "\n",
    "[Save and load models | TensorFlow Core](https://www.tensorflow.org/tutorials/keras/save_and_load?hl=it)\n",
    "\n",
    "[Classification on imbalanced data | TensorFlow Core](https://www.tensorflow.org/tutorials/structured_data/imbalanced_data?hl=it)\n",
    "\n",
    "[Spam Text Message Classification](https://www.kaggle.com/datasets/team-ai/spam-text-message-classification)\n",
    "\n",
    "[Confusion Matrix Visualization](https://medium.com/@dtuk81/confusion-matrix-visualization-fc31e3f30fea)"
   ]
  }
 ],
 "metadata": {
  "kernelspec": {
   "display_name": ".venv",
   "language": "python",
   "name": "python3"
  },
  "language_info": {
   "codemirror_mode": {
    "name": "ipython",
    "version": 3
   },
   "file_extension": ".py",
   "mimetype": "text/x-python",
   "name": "python",
   "nbconvert_exporter": "python",
   "pygments_lexer": "ipython3",
   "version": "3.10.7"
  },
  "orig_nbformat": 4,
  "vscode": {
   "interpreter": {
    "hash": "4030eb19e646899c9a3314d29ea5c308e304a27f774cb2df306509ae16e3b49d"
   }
  }
 },
 "nbformat": 4,
 "nbformat_minor": 2
}
